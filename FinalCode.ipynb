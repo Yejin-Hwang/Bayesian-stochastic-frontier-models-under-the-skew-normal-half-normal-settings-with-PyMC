{
 "cells": [
  {
   "cell_type": "markdown",
   "id": "cb5d2dbf-e50a-48d4-b871-9b84c36258d9",
   "metadata": {},
   "source": [
    "# Library Imports"
   ]
  },
  {
   "cell_type": "code",
   "execution_count": 1,
   "id": "ccf20707-a9b9-441c-9145-502589d0db6a",
   "metadata": {},
   "outputs": [],
   "source": [
    "import arviz as az\n",
    "import matplotlib.pyplot as plt\n",
    "import numpy as np\n",
    "import pandas as pd\n",
    "import pymc as pm\n",
    "from pymc import math as pm_math\n",
    "from scipy.stats import halfnorm, skewnorm"
   ]
  },
  {
   "cell_type": "markdown",
   "id": "65dfdd08-e377-4d2e-9147-d964292836ce",
   "metadata": {},
   "source": [
    "# Model Specification\n",
    "## Simulated Data\n",
    "$$ X \\sim N(1,1) $$\n",
    "$$ U \\sim HN(0, \\sigma_u^2) $$\n",
    "$$ Y \\sim SN(\\xi, \\sigma_v^2, \\lambda)$$\n",
    "$$ \\xi = \\alpha + \\beta X - U $$\n",
    "$$ \\alpha = 5, \\beta = 2 $$\n",
    "## Priors\n",
    "$$ \\alpha \\sim N(\\mu_\\alpha, \\sigma_\\alpha^2) $$\n",
    "$$ \\beta \\sim N(\\mu_\\beta, \\sigma_\\beta^2) $$\n",
    "$$ \\sigma_v^2 \\sim IG(\\alpha_v, \\beta_v) $$\n",
    "$$ \\sigma_u^2 \\sim IG(\\alpha_u, \\beta_u) $$\n",
    "$$ \\lambda \\sim TN(\\mu_\\lambda, \\sigma_\\lambda^2; a, b)$$\n"
   ]
  },
  {
   "cell_type": "markdown",
   "id": "cf34b1b5-4c8d-490c-a40d-022e91372171",
   "metadata": {},
   "source": [
    "# Simulate Data"
   ]
  },
  {
   "cell_type": "code",
   "execution_count": 2,
   "id": "ca5eda4a-e81d-452c-a5b6-0fd49522a3cb",
   "metadata": {},
   "outputs": [],
   "source": [
    "np.random.seed(123)\n",
    "\n",
    "# Parameters \n",
    "n = 50\n",
    "alpha = 5\n",
    "beta = 2\n",
    "sigma_u = 1\n",
    "sigma_v = 1.5\n",
    "lambda_skew = -0.5\n",
    "\n",
    "# Simulate input X\n",
    "X = np.random.normal(1, 1, n)\n",
    "\n",
    "# Inefficiency term U ~ HalfNormal(0, sigma_u)\n",
    "U = halfnorm(scale=sigma_u).rvs(n)\n",
    "\n",
    "# Location ξ = α + βX − U\n",
    "xi = alpha + beta * X - U\n",
    "\n",
    "# Simulate Y ~ SkewNormal(ξ, sigma_v, lambda_skew)\n",
    "Y = skewnorm(a=lambda_skew, loc=xi, scale=sigma_v).rvs(n)\n",
    "\n",
    "# Put in DataFrame for convenience\n",
    "data = pd.DataFrame({'X': X, 'Y': Y})"
   ]
  },
  {
   "cell_type": "code",
   "execution_count": 4,
   "id": "90a7e18f-0550-4724-8e09-3cff040349fd",
   "metadata": {},
   "outputs": [
    {
     "data": {
      "text/html": [
       "<div>\n",
       "<style scoped>\n",
       "    .dataframe tbody tr th:only-of-type {\n",
       "        vertical-align: middle;\n",
       "    }\n",
       "\n",
       "    .dataframe tbody tr th {\n",
       "        vertical-align: top;\n",
       "    }\n",
       "\n",
       "    .dataframe thead th {\n",
       "        text-align: right;\n",
       "    }\n",
       "</style>\n",
       "<table border=\"1\" class=\"dataframe\">\n",
       "  <thead>\n",
       "    <tr style=\"text-align: right;\">\n",
       "      <th></th>\n",
       "      <th>X</th>\n",
       "      <th>Y</th>\n",
       "    </tr>\n",
       "  </thead>\n",
       "  <tbody>\n",
       "    <tr>\n",
       "      <th>0</th>\n",
       "      <td>-0.085631</td>\n",
       "      <td>3.444481</td>\n",
       "    </tr>\n",
       "    <tr>\n",
       "      <th>1</th>\n",
       "      <td>1.997345</td>\n",
       "      <td>6.248438</td>\n",
       "    </tr>\n",
       "    <tr>\n",
       "      <th>2</th>\n",
       "      <td>1.282978</td>\n",
       "      <td>3.450195</td>\n",
       "    </tr>\n",
       "    <tr>\n",
       "      <th>3</th>\n",
       "      <td>-0.506295</td>\n",
       "      <td>-1.071731</td>\n",
       "    </tr>\n",
       "    <tr>\n",
       "      <th>4</th>\n",
       "      <td>0.421400</td>\n",
       "      <td>7.164607</td>\n",
       "    </tr>\n",
       "  </tbody>\n",
       "</table>\n",
       "</div>"
      ],
      "text/plain": [
       "          X         Y\n",
       "0 -0.085631  3.444481\n",
       "1  1.997345  6.248438\n",
       "2  1.282978  3.450195\n",
       "3 -0.506295 -1.071731\n",
       "4  0.421400  7.164607"
      ]
     },
     "execution_count": 4,
     "metadata": {},
     "output_type": "execute_result"
    }
   ],
   "source": [
    "data.head()"
   ]
  },
  {
   "cell_type": "code",
   "execution_count": null,
   "id": "cbc78728-495d-4ea6-a375-4f84ea627ce7",
   "metadata": {},
   "outputs": [],
   "source": []
  }
 ],
 "metadata": {
  "kernelspec": {
   "display_name": "Python 3 (ipykernel)",
   "language": "python",
   "name": "python3"
  },
  "language_info": {
   "codemirror_mode": {
    "name": "ipython",
    "version": 3
   },
   "file_extension": ".py",
   "mimetype": "text/x-python",
   "name": "python",
   "nbconvert_exporter": "python",
   "pygments_lexer": "ipython3",
   "version": "3.12.8"
  }
 },
 "nbformat": 4,
 "nbformat_minor": 5
}
